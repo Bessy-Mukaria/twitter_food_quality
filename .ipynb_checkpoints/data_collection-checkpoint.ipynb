{
 "cells": [
  {
   "cell_type": "code",
   "execution_count": 1,
   "metadata": {},
   "outputs": [],
   "source": [
    "import os\n",
    "import tweepy as tw\n",
    "import pandas as pd"
   ]
  },
  {
   "cell_type": "code",
   "execution_count": 2,
   "metadata": {},
   "outputs": [],
   "source": [
    "#Variables that contains the user credentials to access Twitter API \n",
    "#Variables that contains the user credentials to access Twitter API \n",
    "consumer_key= 'jWTfGrHUxfzgAyfh4WHWskUVi'\n",
    "consumer_secret= 'Qnoh2PzAruvLHPdFT6wnBckYG91V1NVuzdy6D0cq5mrQvkhTeT'\n",
    "access_token= '3104444811-LSRkG1oStSRdOXAflTsTxDBs9wonj9JzKcBTHao'\n",
    "access_token_secret= 'kN2j9nslXQOiA34zQ2fKJgg7d2tf9AbQGeLz7uGnCQHdj'"
   ]
  },
  {
   "cell_type": "code",
   "execution_count": 3,
   "metadata": {},
   "outputs": [],
   "source": [
    "auth = tw.OAuthHandler(consumer_key, consumer_secret)\n",
    "auth.set_access_token(access_token, access_token_secret)\n",
    "api = tw.API(auth, wait_on_rate_limit=True)"
   ]
  },
  {
   "cell_type": "code",
   "execution_count": 6,
   "metadata": {},
   "outputs": [],
   "source": [
    "def data_download(keyword_list,date_since):\n",
    "    for keyword in keyword_list:\n",
    "        tweets = tw.Cursor(api.search,q=keyword,since=date_since).items(100)\n",
    "        # Iterate and print tweets\n",
    "        tweet_data = [[tweet.user.screen_name,tweet.created_at, tweet.user.location,tweet.text] for tweet in tweets]\n",
    "        tweet_text = pd.DataFrame(data=tweet_data, columns=[\"user\",\"time\", \"location\",\"text\"])\n",
    "        tweet_text.to_csv('{keyword}.csv'.format(keyword=keyword))"
   ]
  },
  {
   "cell_type": "code",
   "execution_count": null,
   "metadata": {},
   "outputs": [],
   "source": [
    "keyword_list = ['food_prices','expiry_dates','junk_food','vegetables','diet','food poisoning']\n",
    "data_download(keyword_list,\"2020-04-16\")"
   ]
  },
  {
   "cell_type": "code",
   "execution_count": null,
   "metadata": {},
   "outputs": [],
   "source": []
  }
 ],
 "metadata": {
  "kernelspec": {
   "display_name": "Python 3",
   "language": "python",
   "name": "python3"
  },
  "language_info": {
   "codemirror_mode": {
    "name": "ipython",
    "version": 3
   },
   "file_extension": ".py",
   "mimetype": "text/x-python",
   "name": "python",
   "nbconvert_exporter": "python",
   "pygments_lexer": "ipython3",
   "version": "3.8.5"
  }
 },
 "nbformat": 4,
 "nbformat_minor": 4
}
