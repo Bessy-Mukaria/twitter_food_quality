{
 "cells": [
  {
   "cell_type": "code",
   "execution_count": 1,
   "metadata": {},
   "outputs": [],
   "source": [
    "import os\n",
    "import tweepy as tw\n",
    "import pandas as pd"
   ]
  },
  {
   "cell_type": "code",
   "execution_count": 2,
   "metadata": {},
   "outputs": [],
   "source": [
    "#Variables that contains the user credentials to access Twitter API \n",
    "consumer_key= 'jWTfGrHUxfzgAyfh4WHWskUVi'\n",
    "consumer_secret= 'Qnoh2PzAruvLHPdFT6wnBckYG91V1NVuzdy6D0cq5mrQvkhTeT'\n",
    "access_token= '3104444811-LSRkG1oStSRdOXAflTsTxDBs9wonj9JzKcBTHao'\n",
    "access_token_secret= 'kN2j9nslXQOiA34zQ2fKJgg7d2tf9AbQGeLz7uGnCQHdj'"
   ]
  },
  {
   "cell_type": "code",
   "execution_count": 3,
   "metadata": {},
   "outputs": [
    {
     "name": "stdout",
     "output_type": "stream",
     "text": [
      "Place(_api=<tweepy.api.API object at 0x7eff41910d90>, id='17ad6a68301cd28b', name='Kenya', full_name='Kenya', country='Kenya', country_code='KE', url='https://api.twitter.com/1.1/geo/id/17ad6a68301cd28b.json', place_type='country', attributes={}, bounding_box=BoundingBox(_api=<tweepy.api.API object at 0x7eff41910d90>, type='Polygon', coordinates=[[[33.9105011, -4.7672356], [33.9105011, 4.631608], [41.8998666, 4.631608], [41.8998666, -4.7672356], [33.9105011, -4.7672356]]]), centroid=[37.47826073131302, -0.06781380000000015], contained_within=[])\n"
     ]
    }
   ],
   "source": [
    "auth = tw.OAuthHandler(consumer_key, consumer_secret)\n",
    "auth.set_access_token(access_token, access_token_secret)\n",
    "api = tw.API(auth, wait_on_rate_limit=True)\n",
    "places = api.geo_search(query=\"KENYA\", granularity=\"country\")\n",
    "print(places[0])\n",
    "place_id = places[0].id"
   ]
  },
  {
   "cell_type": "code",
   "execution_count": 4,
   "metadata": {},
   "outputs": [],
   "source": [
    "# Define the search term and the date_since date as variables\n",
    "search_words = \"food prices\"\n",
    "date_since = \"2020-04-16\""
   ]
  },
  {
   "cell_type": "code",
   "execution_count": null,
   "metadata": {},
   "outputs": [],
   "source": [
    "# Collect tweets\n",
    "tweets = tw.Cursor(api.search,\n",
    "              q=search_words,\n",
    "              since=date_since).items(20000)\n",
    "\n",
    "\n",
    "# Iterate and print tweets\n",
    "tweet_data = [[tweet.user.screen_name, tweet.user.location,tweet.text] for tweet in tweets]"
   ]
  },
  {
   "cell_type": "code",
   "execution_count": null,
   "metadata": {},
   "outputs": [],
   "source": [
    "tweet_text = pd.DataFrame(data=tweet_data, \n",
    "                    columns=['user', \"location\",\"text\"])\n",
    "tweet_text.head()"
   ]
  },
  {
   "cell_type": "code",
   "execution_count": null,
   "metadata": {},
   "outputs": [],
   "source": []
  },
  {
   "cell_type": "code",
   "execution_count": null,
   "metadata": {},
   "outputs": [],
   "source": []
  }
 ],
 "metadata": {
  "kernelspec": {
   "display_name": "Python 3",
   "language": "python",
   "name": "python3"
  },
  "language_info": {
   "codemirror_mode": {
    "name": "ipython",
    "version": 3
   },
   "file_extension": ".py",
   "mimetype": "text/x-python",
   "name": "python",
   "nbconvert_exporter": "python",
   "pygments_lexer": "ipython3",
   "version": "3.8.5"
  }
 },
 "nbformat": 4,
 "nbformat_minor": 4
}
